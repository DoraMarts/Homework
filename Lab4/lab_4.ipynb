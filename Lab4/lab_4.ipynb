{
 "cells": [
  {
   "cell_type": "markdown",
   "metadata": {},
   "source": [
    "# About Dataset\n",
    "### This dataset was collected by Anton Bobanov from car sale advertisements for study/practice purposes in 2016. Though there is couple well known car features datasets they seems quite simple and outdated. Car topic is really interesting. Link: https://www.kaggle.com/datasets/antfarol/car-sale-advertisements\n",
    "\n",
    "### This dataset contains data for more than 9.5K cars sale in Ukraine. Most of them are used cars so it opens the possibility to analyze features related to car operation. At the end of the day I look at this data as a subset from all Ukrainian car fleet.\n",
    "\n",
    "## Content\n",
    "### Dataset contains 9576 rows and 10 variables with essential meanings:\n",
    "\n",
    "### car: manufacturer brand\n",
    "### price: seller’s price in advertisement (in USD)\n",
    "### body: car body type\n",
    "### mileage: as mentioned in advertisement (‘000 Km)\n",
    "### engV: rounded engine volume (‘000 cubic cm)\n",
    "### engType: type of fuel (“Other” in this case should be treated as NA)\n",
    "### registration: whether car registered in Ukraine or not\n",
    "### year: year of production\n",
    "### model: specific model name\n",
    "### drive: drive type\n"
   ]
  },
  {
   "cell_type": "code",
   "execution_count": 2,
   "metadata": {},
   "outputs": [],
   "source": [
    "import pandas as pd\n",
    "import numpy as np\n",
    "df = pd.read_csv('E:/car_ad.csv')\n"
   ]
  },
  {
   "cell_type": "markdown",
   "metadata": {},
   "source": [
    "## Question 1\n",
    "### What is the average price per brand? (exclude missing values from this calculation, display top 5 highest average price)"
   ]
  },
  {
   "cell_type": "code",
   "execution_count": 3,
   "metadata": {},
   "outputs": [
    {
     "data": {
      "text/plain": [
       "car\n",
       "Bentley         197504.625\n",
       "Ferrari         167500.000\n",
       "Lamborghini     130000.000\n",
       "Maserati        110000.000\n",
       "Aston Martin    105000.000\n",
       "Name: price, dtype: float64"
      ]
     },
     "execution_count": 3,
     "metadata": {},
     "output_type": "execute_result"
    }
   ],
   "source": [
    "def answer_one():\n",
    "    df = pd.read_csv('E:/car_ad.csv')\n",
    "    dfi=df.dropna(subset=['car', 'price'])\n",
    "    avg=dfi.groupby(\"car\")[\"price\"].mean()\n",
    "    avg=avg.sort_values(ascending=False)\n",
    "    return avg.head(5)\n",
    "answer_one()"
   ]
  },
  {
   "cell_type": "markdown",
   "metadata": {},
   "source": [
    "## Question 2\n",
    "### What is the average Price per 1000 km?"
   ]
  },
  {
   "cell_type": "code",
   "execution_count": 4,
   "metadata": {},
   "outputs": [
    {
     "data": {
      "text/plain": [
       "1218.3739034377963"
      ]
     },
     "execution_count": 4,
     "metadata": {},
     "output_type": "execute_result"
    }
   ],
   "source": [
    "def answer_two():\n",
    "    df = pd.read_csv('E:/car_ad.csv')\n",
    "    df['mileage']=df['mileage'].replace(0, np.nan)\n",
    "    df = df.dropna(subset=['mileage', 'price'])\n",
    "    df['prperkm'] = df['price']/df['mileage']\n",
    "    return df['prperkm'].mean()\n",
    "answer_two()"
   ]
  },
  {
   "cell_type": "markdown",
   "metadata": {},
   "source": [
    "## Question 3\n",
    "### Which model has the higest average price?\n",
    "\n",
    "### This function should return a string value and number"
   ]
  },
  {
   "cell_type": "code",
   "execution_count": 17,
   "metadata": {},
   "outputs": [
    {
     "data": {
      "text/html": [
       "<div>\n",
       "<style scoped>\n",
       "    .dataframe tbody tr th:only-of-type {\n",
       "        vertical-align: middle;\n",
       "    }\n",
       "\n",
       "    .dataframe tbody tr th {\n",
       "        vertical-align: top;\n",
       "    }\n",
       "\n",
       "    .dataframe thead th {\n",
       "        text-align: right;\n",
       "    }\n",
       "</style>\n",
       "<table border=\"1\" class=\"dataframe\">\n",
       "  <thead>\n",
       "    <tr style=\"text-align: right;\">\n",
       "      <th></th>\n",
       "      <th>model</th>\n",
       "      <th>price</th>\n",
       "    </tr>\n",
       "  </thead>\n",
       "  <tbody>\n",
       "    <tr>\n",
       "      <th>7621</th>\n",
       "      <td>Mulsanne</td>\n",
       "      <td>547800.0</td>\n",
       "    </tr>\n",
       "  </tbody>\n",
       "</table>\n",
       "</div>"
      ],
      "text/plain": [
       "         model     price\n",
       "7621  Mulsanne  547800.0"
      ]
     },
     "execution_count": 17,
     "metadata": {},
     "output_type": "execute_result"
    }
   ],
   "source": [
    "def answer_three():\n",
    "    df = pd.read_csv('E:/car_ad.csv')\n",
    "    df = df.dropna(subset=['price'])\n",
    "    diff=df['price'].max()\n",
    "    df1 = df[df['price']==diff]\n",
    "    return df1[['model','price']]\n",
    "answer_three()"
   ]
  },
  {
   "cell_type": "markdown",
   "metadata": {},
   "source": [
    "## Question 4\n",
    "### The most popular brand on sale advertisements?\n",
    "#### (find the largest quantity among models)"
   ]
  },
  {
   "cell_type": "code",
   "execution_count": 18,
   "metadata": {},
   "outputs": [
    {
     "data": {
      "text/plain": [
       "'Acura'"
      ]
     },
     "execution_count": 18,
     "metadata": {},
     "output_type": "execute_result"
    }
   ],
   "source": [
    "def answer_four():\n",
    "    df = pd.read_csv('E:/car_ad.csv')\n",
    "    most=df.groupby('car').count()\n",
    "    return most[most==most.max()].index.values[0]\n",
    "answer_four()"
   ]
  },
  {
   "cell_type": "markdown",
   "metadata": {},
   "source": [
    "## Question 5\n",
    "###  What is the correlation between the price and mileage? Use the `.corr()` method, (Pearson's correlation).\n",
    "\n",
    "*This function should return a single number.*\n",
    "\n",
    "*(Optional: Use the built-in function `plot9()` to visualize the relationship between Price vs. Mileage)*"
   ]
  },
  {
   "cell_type": "code",
   "execution_count": 25,
   "metadata": {},
   "outputs": [
    {
     "data": {
      "image/png": "[encoded data removed]",
      "text/plain": [
       "<Figure size 432x288 with 1 Axes>"
      ]
     },
     "metadata": {
      "needs_background": "light"
     },
     "output_type": "display_data"
    }
   ],
   "source": [
    "def answer_five():\n",
    "    df = pd.read_csv('E:/car_ad.csv')\n",
    "    df['mileage']=df['mileage'].replace(0, np.nan)\n",
    "    df = df.dropna(subset=['mileage', 'price'])\n",
    "    return df['mileage'].corr(df['price'])\n",
    "answer_five()\n",
    "\n",
    "def plot9():\n",
    "    import matplotlib as plt\n",
    "    %matplotlib inline\n",
    "    \n",
    "    Top15 = pd.read_csv('E:/car_ad.csv')\n",
    "    Top15.plot(x='mileage', y='price', kind='scatter', xlim=[0, None])\n",
    "plot9()"
   ]
  }
 ],
 "metadata": {
  "interpreter": {
   "hash": "ad2bdc8ecc057115af97d19610ffacc2b4e99fae6737bb82f5d7fb13d2f2c186"
  },
  "kernelspec": {
   "display_name": "Python 3.9.7 ('base')",
   "language": "python",
   "name": "python3"
  },
  "language_info": {
   "codemirror_mode": {
    "name": "ipython",
    "version": 3
   },
   "file_extension": ".py",
   "mimetype": "text/x-python",
   "name": "python",
   "nbconvert_exporter": "python",
   "pygments_lexer": "ipython3",
   "version": "3.9.7"
  },
  "orig_nbformat": 4
 },
 "nbformat": 4,
 "nbformat_minor": 2
}
