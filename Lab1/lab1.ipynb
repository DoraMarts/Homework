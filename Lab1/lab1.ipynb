{
 "cells": [
  {
   "cell_type": "markdown",
   "metadata": {},
   "source": [
    "# Lab 1 - Python introduction"
   ]
  },
  {
   "cell_type": "markdown",
   "metadata": {},
   "source": [
    "## Exercise 0 - Example"
   ]
  },
  {
   "cell_type": "markdown",
   "metadata": {},
   "source": [
    "Assign the number 31 to a new variable, q. Write an expression that raises q to the 4th power"
   ]
  },
  {
   "cell_type": "code",
   "execution_count": 3,
   "metadata": {},
   "outputs": [
    {
     "data": {
      "text/plain": [
       "923521"
      ]
     },
     "execution_count": 3,
     "metadata": {},
     "output_type": "execute_result"
    }
   ],
   "source": [
    "q = 31\n",
    "q**4"
   ]
  },
  {
   "cell_type": "markdown",
   "metadata": {},
   "source": [
    "## Exercise 1"
   ]
  },
  {
   "cell_type": "markdown",
   "metadata": {},
   "source": [
    "Create arbitrary list, tuple and dictionary and print them"
   ]
  },
  {
   "cell_type": "code",
   "execution_count": 5,
   "metadata": {},
   "outputs": [
    {
     "name": "stdout",
     "output_type": "stream",
     "text": [
      "1\n",
      "2\n",
      "3\n",
      "tulip\n",
      "[1, 2, 3]\n",
      "tulip\n",
      "alyssum\n"
     ]
    }
   ],
   "source": [
    "my_list=[1,2,3]\n",
    "for x in my_list:\n",
    "    print (x)\n",
    "my_tuple=('tulip',my_list)\n",
    "for x in my_tuple:\n",
    "    print(x)\n",
    "my_dictionary={'tulip':1,'alyssum':2}\n",
    "for flower in my_dictionary:\n",
    "    print(flower)"
   ]
  },
  {
   "cell_type": "markdown",
   "metadata": {},
   "source": [
    "## Exercise 2"
   ]
  },
  {
   "cell_type": "markdown",
   "metadata": {},
   "source": [
    "Print the next elements of array s: 10th, from 10 to 20, all elements more than 0"
   ]
  },
  {
   "cell_type": "code",
   "execution_count": 6,
   "metadata": {},
   "outputs": [
    {
     "name": "stdout",
     "output_type": "stream",
     "text": [
      "-0.19820398062201935\n",
      "[-0.19820398  0.36030918 -2.20704984  0.00567314  0.54079212 -2.11413526\n",
      " -0.61644727 -0.13664227  0.86994033 -2.11203922  0.84057855]\n",
      "[0.10878543 1.00323317 1.96401399 0.21520155 0.78866223 0.36030918\n",
      " 0.00567314 0.54079212 0.86994033 0.84057855 0.14755628 1.06244169\n",
      " 0.7180497  0.71220323 0.04542603 0.70665798 1.4648683  0.86123435\n",
      " 0.24636661 0.10999187 0.78651213 0.1016775  0.82331636 1.32418407\n",
      " 1.16394474 0.3508657  0.39573957 1.14804905 2.43289682 0.22629038\n",
      " 1.16142349 0.49091766 0.97791901 0.87770719 0.7403281  0.94538234\n",
      " 1.17179147 1.16437014 0.75733553 0.76966336 0.68533999 0.04038778\n",
      " 0.53803371 1.29596892 0.17421327 0.48793811 0.45004028 0.32246592\n",
      " 1.29053378 0.35445758 0.84609834 0.41692277 1.14574241 0.72868925\n",
      " 0.77821983 0.32131293]\n"
     ]
    }
   ],
   "source": [
    "import numpy as np\n",
    "s = np.random.normal(0,1,100)\n",
    "print(s[9])\n",
    "print(s[9:20])\n",
    "print(s[s>0])"
   ]
  },
  {
   "cell_type": "markdown",
   "metadata": {},
   "source": [
    "## Exercise 3"
   ]
  },
  {
   "cell_type": "markdown",
   "metadata": {},
   "source": [
    "Make a function pow that raised base number to a fixed power power. If power >= 50 print message \"power is too big\" and return -1"
   ]
  },
  {
   "cell_type": "code",
   "execution_count": 7,
   "metadata": {},
   "outputs": [
    {
     "name": "stdout",
     "output_type": "stream",
     "text": [
      "power is too big -1\n"
     ]
    }
   ],
   "source": [
    "power=pow(4,10)\n",
    "if power>=50:\n",
    "    print (\"power is too big\",-1)"
   ]
  },
  {
   "cell_type": "markdown",
   "metadata": {},
   "source": [
    "## Exercise 4"
   ]
  },
  {
   "cell_type": "markdown",
   "metadata": {},
   "source": [
    "Make a function above(x,n) which returns all elements x > n. By default x = 10. Use numpy arrays"
   ]
  },
  {
   "cell_type": "code",
   "execution_count": 26,
   "metadata": {},
   "outputs": [
    {
     "name": "stdout",
     "output_type": "stream",
     "text": [
      "10 2\n",
      "10 3\n",
      "10 4\n",
      "10 5\n",
      "10 6\n"
     ]
    }
   ],
   "source": [
    "import numpy as np\n",
    "a = np.array([2, 3, 4, 5, 6])\n",
    "def above(x,n):\n",
    "    for element in n:\n",
    "        if (x>element):\n",
    "            print (x, element)\n",
    "\n",
    "above(10,a)\n"
   ]
  },
  {
   "cell_type": "markdown",
   "metadata": {},
   "source": [
    "# Exercise 5"
   ]
  },
  {
   "cell_type": "markdown",
   "metadata": {},
   "source": [
    "Write a function my_ifelse(x, exp, n) which test array x with expression exp to number n. For instance, my_ifelse(x,'>=',10) returns all elements of array x which greater or equal 10. exp can be <, >, <=, >=, ==. If exp dont match these expression array x is retured"
   ]
  },
  {
   "cell_type": "code",
   "execution_count": 36,
   "metadata": {},
   "outputs": [
    {
     "name": "stdout",
     "output_type": "stream",
     "text": [
      "2 < 10\n",
      "2\n",
      "2 <= 10\n",
      "2\n",
      "2\n",
      "3 < 10\n",
      "3\n",
      "3 <= 10\n",
      "3\n",
      "3\n",
      "4 < 10\n",
      "4\n",
      "4 <= 10\n",
      "4\n",
      "4\n",
      "5 < 10\n",
      "5\n",
      "5 <= 10\n",
      "5\n",
      "5\n",
      "6 < 10\n",
      "6\n",
      "6 <= 10\n",
      "6\n",
      "6\n"
     ]
    }
   ],
   "source": [
    "import numpy as np\n",
    "a = np.array([2, 3, 4, 5, 6])\n",
    "b = np.array(['<', '>', '<=', '>=', '=='])\n",
    "def above(x,exp,n):\n",
    "    for el in x:\n",
    "        for ex in exp:\n",
    "            if (ex == '<'):\n",
    "                if (el < n):\n",
    "                    print(el,ex,n)\n",
    "                else:\n",
    "                    print(el)\n",
    "            if (ex == '>'):\n",
    "                if (el > n):\n",
    "                    print(el,ex,n)\n",
    "                else:\n",
    "                    print(el)\n",
    "            if (ex == '<='):\n",
    "                if (el <= n):\n",
    "                    print(el,ex,n)\n",
    "                else:\n",
    "                    print(el)\n",
    "            if (ex == '>='):\n",
    "                if (el >= n):\n",
    "                    print(el,ex,n)\n",
    "                else:\n",
    "                    print(el)\n",
    "            if (ex == '=='):\n",
    "                if (el == n):\n",
    "                    print(el,ex,n)\n",
    "                else:\n",
    "                    print(el)\n",
    "\n",
    "above(a,b,10)\n"
   ]
  },
  {
   "cell_type": "markdown",
   "metadata": {},
   "source": [
    "# Exercise 6"
   ]
  },
  {
   "cell_type": "markdown",
   "metadata": {},
   "source": [
    "Make a function called counter that takes a string input_string and returns a dictionary of letter counts."
   ]
  },
  {
   "cell_type": "code",
   "execution_count": 37,
   "metadata": {},
   "outputs": [
    {
     "data": {
      "text/plain": [
       "{'M': 1,\n",
       " 'i': 2,\n",
       " 'r': 2,\n",
       " 'a': 1,\n",
       " 'c': 2,\n",
       " 'l': 1,\n",
       " 'e': 4,\n",
       " 's': 1,\n",
       " ' ': 2,\n",
       " 'n': 1,\n",
       " 'D': 1,\n",
       " 'm': 1,\n",
       " 'b': 1}"
      ]
     },
     "execution_count": 37,
     "metadata": {},
     "output_type": "execute_result"
    }
   ],
   "source": [
    "\n",
    "def counter (input_string):\n",
    "    count_letters = {}\n",
    "    for letter in input_string:\n",
    "        if letter in count_letters:\n",
    "                count_letters[letter] += 1\n",
    "        else:\n",
    "            count_letters[letter] = 1\n",
    "    return count_letters\n",
    "counter('Miracles in December')"
   ]
  },
  {
   "cell_type": "markdown",
   "metadata": {},
   "source": [
    "# Exercise 7"
   ]
  },
  {
   "cell_type": "markdown",
   "metadata": {},
   "source": [
    "From the function counter make function counter_sorted with second boolean argumens reverse that returns sorted letter counts. Order depends of the reverse argument. By default reverse = False"
   ]
  },
  {
   "cell_type": "code",
   "execution_count": 51,
   "metadata": {},
   "outputs": [
    {
     "data": {
      "text/plain": [
       "[('M', 1),\n",
       " ('a', 1),\n",
       " ('l', 1),\n",
       " ('s', 1),\n",
       " ('n', 1),\n",
       " ('D', 1),\n",
       " ('m', 1),\n",
       " ('b', 1),\n",
       " ('i', 2),\n",
       " ('r', 2),\n",
       " ('c', 2),\n",
       " (' ', 2),\n",
       " ('e', 4)]"
      ]
     },
     "execution_count": 51,
     "metadata": {},
     "output_type": "execute_result"
    }
   ],
   "source": [
    "def counter_sorted(input_string):\n",
    "    count_letters = {}\n",
    "    for letter in input_string:\n",
    "        if letter in count_letters:\n",
    "                count_letters[letter] += 1\n",
    "        else:\n",
    "            count_letters[letter] = 1\n",
    "    return sorted(count_letters.items(), key=lambda x: x[1])\n",
    "  \n",
    "counter_sorted('Miracles in December')"
   ]
  }
 ],
 "metadata": {
  "interpreter": {
   "hash": "b3ba2566441a7c06988d0923437866b63cedc61552a5af99d1f4fb67d367b25f"
  },
  "kernelspec": {
   "display_name": "Python 3.9.7 ('base')",
   "language": "python",
   "name": "python3"
  },
  "language_info": {
   "codemirror_mode": {
    "name": "ipython",
    "version": 3
   },
   "file_extension": ".py",
   "mimetype": "text/x-python",
   "name": "python",
   "nbconvert_exporter": "python",
   "pygments_lexer": "ipython3",
   "version": "3.9.7"
  },
  "orig_nbformat": 4
 },
 "nbformat": 4,
 "nbformat_minor": 2
}
